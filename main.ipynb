{
 "cells": [
  {
   "cell_type": "code",
   "execution_count": null,
   "metadata": {
    "collapsed": false,
    "jupyter": {
     "outputs_hidden": false
    },
    "scrolled": true
   },
   "outputs": [],
   "source": [
    "# 查看当前挂载的数据集目录, 该目录下的变更重启环境后会自动还原\n",
    "# View dataset directory. \n",
    "# This directory will be recovered automatically after resetting environment. \n",
    "!ls /home/aistudio/data"
   ]
  },
  {
   "cell_type": "code",
   "execution_count": null,
   "metadata": {
    "collapsed": false,
    "jupyter": {
     "outputs_hidden": false
    },
    "scrolled": true
   },
   "outputs": [],
   "source": [
    "# 查看工作区文件, 该目录下的变更将会持久保存. 请及时清理不必要的文件, 避免加载过慢.\n",
    "# View personal work directory. \n",
    "# All changes under this directory will be kept even after reset. \n",
    "# Please clean unnecessary files in time to speed up environment loading. \n",
    "!ls /home/aistudio/work"
   ]
  },
  {
   "cell_type": "code",
   "execution_count": null,
   "metadata": {
    "collapsed": false,
    "jupyter": {
     "outputs_hidden": false
    },
    "scrolled": true
   },
   "outputs": [],
   "source": [
    "# 如果需要进行持久化安装, 需要使用持久化路径, 如下方代码示例:\n",
    "# If a persistence installation is required, \n",
    "# you need to use the persistence path as the following: \n",
    "!mkdir /home/aistudio/external-libraries\n",
    "!pip install beautifulsoup4 -t /home/aistudio/external-libraries"
   ]
  },
  {
   "cell_type": "code",
   "execution_count": null,
   "metadata": {
    "collapsed": false,
    "jupyter": {
     "outputs_hidden": false
    },
    "scrolled": true
   },
   "outputs": [],
   "source": [
    "# 同时添加如下代码, 这样每次环境(kernel)启动的时候只要运行下方代码即可: \n",
    "# Also add the following code, \n",
    "# so that every time the environment (kernel) starts, \n",
    "# just run the following code: \n",
    "import sys \n",
    "sys.path.append('/home/aistudio/external-libraries')"
   ]
  },
  {
   "cell_type": "code",
   "execution_count": 1,
   "metadata": {
    "execution": {
     "iopub.execute_input": "2022-03-31T02:39:35.118862Z",
     "iopub.status.busy": "2022-03-31T02:39:35.117843Z",
     "iopub.status.idle": "2022-03-31T02:40:09.413867Z",
     "shell.execute_reply": "2022-03-31T02:40:09.412986Z",
     "shell.execute_reply.started": "2022-03-31T02:39:35.118825Z"
    },
    "scrolled": true,
    "tags": []
   },
   "outputs": [
    {
     "name": "stdout",
     "output_type": "stream",
     "text": [
      "Looking in indexes: https://pypi.tuna.tsinghua.edu.cn/simple\n",
      "Collecting paddlex==1.3.11\n",
      "  Downloading https://pypi.tuna.tsinghua.edu.cn/packages/d6/a2/07435f4aa1e51fe22bdf06c95d03bf1b78b7bc6625adbb51e35dc0804cc7/paddlex-1.3.11-py3-none-any.whl (516 kB)\n",
      "\u001b[2K     \u001b[90m━━━━━━━━━━━━━━━━━━━━━━━━━━━━━━━━━━━━━━━\u001b[0m \u001b[32m517.0/517.0 KB\u001b[0m \u001b[31m5.7 MB/s\u001b[0m eta \u001b[36m0:00:00\u001b[0ma \u001b[36m0:00:01\u001b[0m\n",
      "\u001b[?25hCollecting paddlehub==2.1.0\n",
      "  Downloading https://pypi.tuna.tsinghua.edu.cn/packages/7a/29/3bd0ca43c787181e9c22fe44b944b64d7fcb14ce66d3bf4602d9ad2ac76c/paddlehub-2.1.0-py3-none-any.whl (211 kB)\n",
      "\u001b[2K     \u001b[90m━━━━━━━━━━━━━━━━━━━━━━━━━━━━━━━━━━━━━\u001b[0m \u001b[32m211.4/211.4 KB\u001b[0m \u001b[31m291.0 kB/s\u001b[0m eta \u001b[36m0:00:00\u001b[0ma \u001b[36m0:00:01\u001b[0m\n",
      "\u001b[?25hCollecting paddleslim==1.1.1\n",
      "  Downloading https://pypi.tuna.tsinghua.edu.cn/packages/d1/77/e257227bed9a70ff0d35a4a3c4e70ac2d2362c803834c4c52018f7c4b762/paddleslim-1.1.1-py2.py3-none-any.whl (145 kB)\n",
      "\u001b[2K     \u001b[90m━━━━━━━━━━━━━━━━━━━━━━━━━━━━━━━━━━━━━\u001b[0m \u001b[32m145.3/145.3 KB\u001b[0m \u001b[31m539.7 kB/s\u001b[0m eta \u001b[36m0:00:00\u001b[0m00:01\u001b[0m00:01\u001b[0m\n",
      "\u001b[?25hRequirement already satisfied: colorama in /opt/conda/envs/python35-paddle120-env/lib/python3.7/site-packages (from paddlex==1.3.11) (0.4.4)\n",
      "Collecting xlwt\n",
      "  Downloading https://pypi.tuna.tsinghua.edu.cn/packages/44/48/def306413b25c3d01753603b1a222a011b8621aed27cd7f89cbc27e6b0f4/xlwt-1.3.0-py2.py3-none-any.whl (99 kB)\n",
      "\u001b[2K     \u001b[90m━━━━━━━━━━━━━━━━━━━━━━━━━━━━━━━━━━━━━━━\u001b[0m \u001b[32m100.0/100.0 KB\u001b[0m \u001b[31m6.4 MB/s\u001b[0m eta \u001b[36m0:00:00\u001b[0m\n",
      "\u001b[?25hRequirement already satisfied: pyyaml in /opt/conda/envs/python35-paddle120-env/lib/python3.7/site-packages (from paddlex==1.3.11) (5.1.2)\n",
      "Requirement already satisfied: sklearn in /opt/conda/envs/python35-paddle120-env/lib/python3.7/site-packages (from paddlex==1.3.11) (0.0)\n",
      "Requirement already satisfied: psutil in /opt/conda/envs/python35-paddle120-env/lib/python3.7/site-packages (from paddlex==1.3.11) (5.7.2)\n",
      "Requirement already satisfied: flask-cors in /opt/conda/envs/python35-paddle120-env/lib/python3.7/site-packages (from paddlex==1.3.11) (3.0.8)\n",
      "Collecting pycocotools\n",
      "  Downloading https://pypi.tuna.tsinghua.edu.cn/packages/75/5c/ac61ea715d7a89ecc31c090753bde28810238225ca8b71778dfe3e6a68bc/pycocotools-2.0.4.tar.gz (106 kB)\n",
      "\u001b[2K     \u001b[90m━━━━━━━━━━━━━━━━━━━━━━━━━━━━━━━━━━━━━\u001b[0m \u001b[32m106.6/106.6 KB\u001b[0m \u001b[31m434.9 kB/s\u001b[0m eta \u001b[36m0:00:00\u001b[0ma \u001b[36m0:00:01\u001b[0m\n",
      "\u001b[?25h  Installing build dependencies ... \u001b[?25ldone\n",
      "\u001b[?25h  Getting requirements to build wheel ... \u001b[?25ldone\n",
      "\u001b[?25h  Preparing metadata (pyproject.toml) ... \u001b[?25ldone\n",
      "\u001b[?25hRequirement already satisfied: tqdm in /opt/conda/envs/python35-paddle120-env/lib/python3.7/site-packages (from paddlex==1.3.11) (4.27.0)\n",
      "Requirement already satisfied: opencv-python in /opt/conda/envs/python35-paddle120-env/lib/python3.7/site-packages (from paddlex==1.3.11) (4.1.1.26)\n",
      "Requirement already satisfied: visualdl>=2.0.0 in /opt/conda/envs/python35-paddle120-env/lib/python3.7/site-packages (from paddlex==1.3.11) (2.2.3)\n",
      "Collecting shapely>=1.7.0\n",
      "  Downloading https://pypi.tuna.tsinghua.edu.cn/packages/9d/4d/4b0d86ed737acb29c5e627a91449470a9fb914f32640db3f1cb7ba5bc19e/Shapely-1.8.1.post1-cp37-cp37m-manylinux_2_12_x86_64.manylinux2010_x86_64.whl (2.0 MB)\n",
      "\u001b[2K     \u001b[90m━━━━━━━━━━━━━━━━━━━━━━━━━━━━━━━━━━━━━━━━\u001b[0m \u001b[32m2.0/2.0 MB\u001b[0m \u001b[31m3.6 MB/s\u001b[0m eta \u001b[36m0:00:00\u001b[0m00:01\u001b[0m00:01\u001b[0m\n",
      "\u001b[?25hRequirement already satisfied: numpy in /opt/conda/envs/python35-paddle120-env/lib/python3.7/site-packages (from paddlehub==2.1.0->paddlex==1.3.11) (1.19.5)\n",
      "Requirement already satisfied: gunicorn>=19.10.0 in /opt/conda/envs/python35-paddle120-env/lib/python3.7/site-packages (from paddlehub==2.1.0->paddlex==1.3.11) (20.0.4)\n",
      "Requirement already satisfied: matplotlib in /opt/conda/envs/python35-paddle120-env/lib/python3.7/site-packages (from paddlehub==2.1.0->paddlex==1.3.11) (2.2.3)\n",
      "Requirement already satisfied: pyzmq in /opt/conda/envs/python35-paddle120-env/lib/python3.7/site-packages (from paddlehub==2.1.0->paddlex==1.3.11) (22.3.0)\n",
      "Requirement already satisfied: packaging in /opt/conda/envs/python35-paddle120-env/lib/python3.7/site-packages (from paddlehub==2.1.0->paddlex==1.3.11) (21.3)\n",
      "Requirement already satisfied: rarfile in /opt/conda/envs/python35-paddle120-env/lib/python3.7/site-packages (from paddlehub==2.1.0->paddlex==1.3.11) (3.1)\n",
      "Requirement already satisfied: colorlog in /opt/conda/envs/python35-paddle120-env/lib/python3.7/site-packages (from paddlehub==2.1.0->paddlex==1.3.11) (4.1.0)\n",
      "Requirement already satisfied: flask>=1.1.0 in /opt/conda/envs/python35-paddle120-env/lib/python3.7/site-packages (from paddlehub==2.1.0->paddlex==1.3.11) (1.1.1)\n",
      "Collecting paddle2onnx>=0.5.1\n",
      "  Downloading https://pypi.tuna.tsinghua.edu.cn/packages/bf/53/5bc769cf6758588471653b6b5e7e158cf87cb60c8e59e8f168b789a2f86a/paddle2onnx-0.9.2-py3-none-any.whl (100 kB)\n",
      "\u001b[2K     \u001b[90m━━━━━━━━━━━━━━━━━━━━━━━━━━━━━━━━━━━━━━━\u001b[0m \u001b[32m100.9/100.9 KB\u001b[0m \u001b[31m3.9 MB/s\u001b[0m eta \u001b[36m0:00:00\u001b[0m\n",
      "\u001b[?25hRequirement already satisfied: easydict in /opt/conda/envs/python35-paddle120-env/lib/python3.7/site-packages (from paddlehub==2.1.0->paddlex==1.3.11) (1.9)\n",
      "Requirement already satisfied: Pillow in /opt/conda/envs/python35-paddle120-env/lib/python3.7/site-packages (from paddlehub==2.1.0->paddlex==1.3.11) (8.2.0)\n",
      "Requirement already satisfied: filelock in /opt/conda/envs/python35-paddle120-env/lib/python3.7/site-packages (from paddlehub==2.1.0->paddlex==1.3.11) (3.0.12)\n",
      "Requirement already satisfied: paddlenlp>=2.0.0rc5 in /opt/conda/envs/python35-paddle120-env/lib/python3.7/site-packages (from paddlehub==2.1.0->paddlex==1.3.11) (2.1.1)\n",
      "Requirement already satisfied: gitpython in /opt/conda/envs/python35-paddle120-env/lib/python3.7/site-packages (from paddlehub==2.1.0->paddlex==1.3.11) (3.1.14)\n",
      "Requirement already satisfied: requests in /opt/conda/envs/python35-paddle120-env/lib/python3.7/site-packages (from visualdl>=2.0.0->paddlex==1.3.11) (2.24.0)\n",
      "Requirement already satisfied: six>=1.14.0 in /opt/conda/envs/python35-paddle120-env/lib/python3.7/site-packages (from visualdl>=2.0.0->paddlex==1.3.11) (1.16.0)\n",
      "Requirement already satisfied: flake8>=3.7.9 in /opt/conda/envs/python35-paddle120-env/lib/python3.7/site-packages (from visualdl>=2.0.0->paddlex==1.3.11) (4.0.1)\n",
      "Requirement already satisfied: pandas in /opt/conda/envs/python35-paddle120-env/lib/python3.7/site-packages (from visualdl>=2.0.0->paddlex==1.3.11) (1.1.5)\n",
      "Requirement already satisfied: pre-commit in /opt/conda/envs/python35-paddle120-env/lib/python3.7/site-packages (from visualdl>=2.0.0->paddlex==1.3.11) (1.21.0)\n",
      "Requirement already satisfied: shellcheck-py in /opt/conda/envs/python35-paddle120-env/lib/python3.7/site-packages (from visualdl>=2.0.0->paddlex==1.3.11) (0.7.1.1)\n",
      "Requirement already satisfied: Flask-Babel>=1.0.0 in /opt/conda/envs/python35-paddle120-env/lib/python3.7/site-packages (from visualdl>=2.0.0->paddlex==1.3.11) (1.0.0)\n",
      "Requirement already satisfied: bce-python-sdk in /opt/conda/envs/python35-paddle120-env/lib/python3.7/site-packages (from visualdl>=2.0.0->paddlex==1.3.11) (0.8.53)\n",
      "Requirement already satisfied: protobuf>=3.11.0 in /opt/conda/envs/python35-paddle120-env/lib/python3.7/site-packages (from visualdl>=2.0.0->paddlex==1.3.11) (3.14.0)\n",
      "Requirement already satisfied: scikit-learn in /opt/conda/envs/python35-paddle120-env/lib/python3.7/site-packages (from sklearn->paddlex==1.3.11) (0.22.1)\n",
      "Requirement already satisfied: pyflakes<2.5.0,>=2.4.0 in /opt/conda/envs/python35-paddle120-env/lib/python3.7/site-packages (from flake8>=3.7.9->visualdl>=2.0.0->paddlex==1.3.11) (2.4.0)\n",
      "Requirement already satisfied: importlib-metadata<4.3 in /opt/conda/envs/python35-paddle120-env/lib/python3.7/site-packages (from flake8>=3.7.9->visualdl>=2.0.0->paddlex==1.3.11) (4.2.0)\n",
      "Requirement already satisfied: pycodestyle<2.9.0,>=2.8.0 in /opt/conda/envs/python35-paddle120-env/lib/python3.7/site-packages (from flake8>=3.7.9->visualdl>=2.0.0->paddlex==1.3.11) (2.8.0)\n",
      "Requirement already satisfied: mccabe<0.7.0,>=0.6.0 in /opt/conda/envs/python35-paddle120-env/lib/python3.7/site-packages (from flake8>=3.7.9->visualdl>=2.0.0->paddlex==1.3.11) (0.6.1)\n",
      "Requirement already satisfied: click>=5.1 in /opt/conda/envs/python35-paddle120-env/lib/python3.7/site-packages (from flask>=1.1.0->paddlehub==2.1.0->paddlex==1.3.11) (7.0)\n",
      "Requirement already satisfied: Werkzeug>=0.15 in /opt/conda/envs/python35-paddle120-env/lib/python3.7/site-packages (from flask>=1.1.0->paddlehub==2.1.0->paddlex==1.3.11) (0.16.0)\n",
      "Requirement already satisfied: Jinja2>=2.10.1 in /opt/conda/envs/python35-paddle120-env/lib/python3.7/site-packages (from flask>=1.1.0->paddlehub==2.1.0->paddlex==1.3.11) (2.11.0)\n",
      "Requirement already satisfied: itsdangerous>=0.24 in /opt/conda/envs/python35-paddle120-env/lib/python3.7/site-packages (from flask>=1.1.0->paddlehub==2.1.0->paddlex==1.3.11) (1.1.0)\n",
      "Requirement already satisfied: pytz in /opt/conda/envs/python35-paddle120-env/lib/python3.7/site-packages (from Flask-Babel>=1.0.0->visualdl>=2.0.0->paddlex==1.3.11) (2019.3)\n",
      "Requirement already satisfied: Babel>=2.3 in /opt/conda/envs/python35-paddle120-env/lib/python3.7/site-packages (from Flask-Babel>=1.0.0->visualdl>=2.0.0->paddlex==1.3.11) (2.8.0)\n",
      "Requirement already satisfied: setuptools>=3.0 in /opt/conda/envs/python35-paddle120-env/lib/python3.7/site-packages (from gunicorn>=19.10.0->paddlehub==2.1.0->paddlex==1.3.11) (41.4.0)\n",
      "Requirement already satisfied: cycler>=0.10 in /opt/conda/envs/python35-paddle120-env/lib/python3.7/site-packages (from matplotlib->paddlehub==2.1.0->paddlex==1.3.11) (0.10.0)\n",
      "Requirement already satisfied: kiwisolver>=1.0.1 in /opt/conda/envs/python35-paddle120-env/lib/python3.7/site-packages (from matplotlib->paddlehub==2.1.0->paddlex==1.3.11) (1.1.0)\n",
      "Requirement already satisfied: pyparsing!=2.0.4,!=2.1.2,!=2.1.6,>=2.0.1 in /opt/conda/envs/python35-paddle120-env/lib/python3.7/site-packages (from matplotlib->paddlehub==2.1.0->paddlex==1.3.11) (3.0.7)\n",
      "Requirement already satisfied: python-dateutil>=2.1 in /opt/conda/envs/python35-paddle120-env/lib/python3.7/site-packages (from matplotlib->paddlehub==2.1.0->paddlex==1.3.11) (2.8.2)\n",
      "Collecting onnx<=1.9.0\n",
      "  Downloading https://pypi.tuna.tsinghua.edu.cn/packages/3f/9b/54c950d3256e27f970a83cd0504efb183a24312702deed0179453316dbd0/onnx-1.9.0-cp37-cp37m-manylinux2010_x86_64.whl (12.2 MB)\n",
      "\u001b[2K     \u001b[90m━━━━━━━━━━━━━━━━━━━━━━━━━━━━━━━━━━━━━━━━\u001b[0m \u001b[32m12.2/12.2 MB\u001b[0m \u001b[31m2.8 MB/s\u001b[0m eta \u001b[36m0:00:00\u001b[0m00:01\u001b[0m00:01\u001b[0m\n",
      "\u001b[?25hRequirement already satisfied: h5py in /opt/conda/envs/python35-paddle120-env/lib/python3.7/site-packages (from paddlenlp>=2.0.0rc5->paddlehub==2.1.0->paddlex==1.3.11) (2.9.0)\n",
      "Requirement already satisfied: seqeval in /opt/conda/envs/python35-paddle120-env/lib/python3.7/site-packages (from paddlenlp>=2.0.0rc5->paddlehub==2.1.0->paddlex==1.3.11) (1.2.2)\n",
      "Requirement already satisfied: jieba in /opt/conda/envs/python35-paddle120-env/lib/python3.7/site-packages (from paddlenlp>=2.0.0rc5->paddlehub==2.1.0->paddlex==1.3.11) (0.42.1)\n",
      "Requirement already satisfied: multiprocess in /opt/conda/envs/python35-paddle120-env/lib/python3.7/site-packages (from paddlenlp>=2.0.0rc5->paddlehub==2.1.0->paddlex==1.3.11) (0.70.11.1)\n",
      "Requirement already satisfied: paddlefsl==1.0.0 in /opt/conda/envs/python35-paddle120-env/lib/python3.7/site-packages (from paddlenlp>=2.0.0rc5->paddlehub==2.1.0->paddlex==1.3.11) (1.0.0)\n",
      "Requirement already satisfied: chardet<4,>=3.0.2 in /opt/conda/envs/python35-paddle120-env/lib/python3.7/site-packages (from requests->visualdl>=2.0.0->paddlex==1.3.11) (3.0.4)\n",
      "Requirement already satisfied: certifi>=2017.4.17 in /opt/conda/envs/python35-paddle120-env/lib/python3.7/site-packages (from requests->visualdl>=2.0.0->paddlex==1.3.11) (2019.9.11)\n",
      "Requirement already satisfied: urllib3!=1.25.0,!=1.25.1,<1.26,>=1.21.1 in /opt/conda/envs/python35-paddle120-env/lib/python3.7/site-packages (from requests->visualdl>=2.0.0->paddlex==1.3.11) (1.25.6)\n",
      "Requirement already satisfied: idna<3,>=2.5 in /opt/conda/envs/python35-paddle120-env/lib/python3.7/site-packages (from requests->visualdl>=2.0.0->paddlex==1.3.11) (2.8)\n",
      "Requirement already satisfied: future>=0.6.0 in /opt/conda/envs/python35-paddle120-env/lib/python3.7/site-packages (from bce-python-sdk->visualdl>=2.0.0->paddlex==1.3.11) (0.18.0)\n",
      "Requirement already satisfied: pycryptodome>=3.8.0 in /opt/conda/envs/python35-paddle120-env/lib/python3.7/site-packages (from bce-python-sdk->visualdl>=2.0.0->paddlex==1.3.11) (3.9.9)\n",
      "Requirement already satisfied: gitdb<5,>=4.0.1 in /opt/conda/envs/python35-paddle120-env/lib/python3.7/site-packages (from gitpython->paddlehub==2.1.0->paddlex==1.3.11) (4.0.5)\n",
      "Requirement already satisfied: identify>=1.0.0 in /opt/conda/envs/python35-paddle120-env/lib/python3.7/site-packages (from pre-commit->visualdl>=2.0.0->paddlex==1.3.11) (1.4.10)\n",
      "Requirement already satisfied: cfgv>=2.0.0 in /opt/conda/envs/python35-paddle120-env/lib/python3.7/site-packages (from pre-commit->visualdl>=2.0.0->paddlex==1.3.11) (2.0.1)\n",
      "Requirement already satisfied: toml in /opt/conda/envs/python35-paddle120-env/lib/python3.7/site-packages (from pre-commit->visualdl>=2.0.0->paddlex==1.3.11) (0.10.0)\n",
      "Requirement already satisfied: nodeenv>=0.11.1 in /opt/conda/envs/python35-paddle120-env/lib/python3.7/site-packages (from pre-commit->visualdl>=2.0.0->paddlex==1.3.11) (1.3.4)\n",
      "Requirement already satisfied: aspy.yaml in /opt/conda/envs/python35-paddle120-env/lib/python3.7/site-packages (from pre-commit->visualdl>=2.0.0->paddlex==1.3.11) (1.3.0)\n",
      "Requirement already satisfied: virtualenv>=15.2 in /opt/conda/envs/python35-paddle120-env/lib/python3.7/site-packages (from pre-commit->visualdl>=2.0.0->paddlex==1.3.11) (16.7.9)\n",
      "Requirement already satisfied: scipy>=0.17.0 in /opt/conda/envs/python35-paddle120-env/lib/python3.7/site-packages (from scikit-learn->sklearn->paddlex==1.3.11) (1.3.0)\n",
      "Requirement already satisfied: joblib>=0.11 in /opt/conda/envs/python35-paddle120-env/lib/python3.7/site-packages (from scikit-learn->sklearn->paddlex==1.3.11) (0.14.1)\n",
      "Requirement already satisfied: smmap<4,>=3.0.1 in /opt/conda/envs/python35-paddle120-env/lib/python3.7/site-packages (from gitdb<5,>=4.0.1->gitpython->paddlehub==2.1.0->paddlex==1.3.11) (3.0.5)\n",
      "Requirement already satisfied: zipp>=0.5 in /opt/conda/envs/python35-paddle120-env/lib/python3.7/site-packages (from importlib-metadata<4.3->flake8>=3.7.9->visualdl>=2.0.0->paddlex==1.3.11) (3.7.0)\n",
      "Requirement already satisfied: typing-extensions>=3.6.4 in /opt/conda/envs/python35-paddle120-env/lib/python3.7/site-packages (from importlib-metadata<4.3->flake8>=3.7.9->visualdl>=2.0.0->paddlex==1.3.11) (4.1.1)\n",
      "Requirement already satisfied: MarkupSafe>=0.23 in /opt/conda/envs/python35-paddle120-env/lib/python3.7/site-packages (from Jinja2>=2.10.1->flask>=1.1.0->paddlehub==2.1.0->paddlex==1.3.11) (2.0.1)\n",
      "Requirement already satisfied: dill>=0.3.3 in /opt/conda/envs/python35-paddle120-env/lib/python3.7/site-packages (from multiprocess->paddlenlp>=2.0.0rc5->paddlehub==2.1.0->paddlex==1.3.11) (0.3.3)\n",
      "Building wheels for collected packages: pycocotools\n",
      "  Building wheel for pycocotools (pyproject.toml) ... \u001b[?25ldone\n",
      "\u001b[?25h  Created wheel for pycocotools: filename=pycocotools-2.0.4-cp37-cp37m-linux_x86_64.whl size=273790 sha256=108f0322b222236b99be2538a1426824bb015d723446737f45f53d02c3fe79da\n",
      "  Stored in directory: /home/aistudio/.cache/pip/wheels/c0/01/5f/670dfd20204fc9cc6bf843db4e014acb998f411922e3abc49f\n",
      "Successfully built pycocotools\n",
      "Installing collected packages: xlwt, shapely, paddleslim, onnx, pycocotools, paddle2onnx, paddlehub, paddlex\n",
      "  Attempting uninstall: paddlehub\n",
      "    Found existing installation: paddlehub 2.0.4\n",
      "    Uninstalling paddlehub-2.0.4:\n",
      "      Successfully uninstalled paddlehub-2.0.4\n",
      "Successfully installed onnx-1.9.0 paddle2onnx-0.9.2 paddlehub-2.1.0 paddleslim-1.1.1 paddlex-1.3.11 pycocotools-2.0.4 shapely-1.8.1.post1 xlwt-1.3.0\n"
     ]
    }
   ],
   "source": [
    "!pip install paddlex==1.3.11"
   ]
  },
  {
   "cell_type": "markdown",
   "metadata": {},
   "source": [
    "## 下面将csv标注数据转化成VOC格式、xml文件\n",
    "\n",
    "(找到VOC格式文件了，不需再转)"
   ]
  },
  {
   "cell_type": "code",
   "execution_count": 3,
   "metadata": {
    "execution": {
     "iopub.execute_input": "2022-03-31T02:54:48.049091Z",
     "iopub.status.busy": "2022-03-31T02:54:48.048388Z",
     "iopub.status.idle": "2022-03-31T02:54:48.052087Z",
     "shell.execute_reply": "2022-03-31T02:54:48.051580Z",
     "shell.execute_reply.started": "2022-03-31T02:54:48.049059Z"
    },
    "scrolled": true,
    "tags": []
   },
   "outputs": [],
   "source": [
    "# import os\n",
    "# train_file=open('data/data135731/pics/ImageSets/Main/train.txt','w')\n",
    "# # test_file=open('data/data135731/pics/ImageSets/Main/test.txt','w')\n",
    "# for _,_,train_files in os.walk('data/data135731/pics/JPEGImages'):\n",
    "#     continue\n",
    "# # for _,_,test_files in os.walk('data/data135731/pics/test_images'):\n",
    "# #     continue\n",
    "# for file in train_files:\n",
    "#     train_file.write(file.split('.')[0]+'\\n')\n",
    " \n",
    "# # for file in test_files:\n",
    "# #     test_file.write(file.split('.')[0]+'\\n')"
   ]
  },
  {
   "cell_type": "code",
   "execution_count": 23,
   "metadata": {
    "execution": {
     "iopub.execute_input": "2022-03-30T09:00:48.148938Z",
     "iopub.status.busy": "2022-03-30T09:00:48.148167Z",
     "iopub.status.idle": "2022-03-30T09:01:10.976938Z",
     "shell.execute_reply": "2022-03-30T09:01:10.976251Z",
     "shell.execute_reply.started": "2022-03-30T09:00:48.148902Z"
    },
    "scrolled": true,
    "tags": []
   },
   "outputs": [],
   "source": [
    "# import cv2\n",
    "# from lxml.etree import Element, SubElement, tostring\n",
    "# from xml.dom.minidom import parseString\n",
    "# import os\n",
    "# def save_xml(image_name, bbox, save_dir='data/data135731/pics/Annotations', width=2666, height=2000, channel=3):\n",
    "\n",
    "#     node_root = Element('annotation')\n",
    " \n",
    "#     node_folder = SubElement(node_root, 'folder')\n",
    "#     node_folder.text = 'JPEGImages'\n",
    " \n",
    "#     node_filename = SubElement(node_root, 'filename')\n",
    "#     node_filename.text = image_name\n",
    " \n",
    "#     node_size = SubElement(node_root, 'size')\n",
    "#     node_width = SubElement(node_size, 'width')\n",
    "#     node_width.text = '%s' % width\n",
    " \n",
    "#     node_height = SubElement(node_size, 'height')\n",
    "#     node_height.text = '%s' % height\n",
    " \n",
    "#     node_depth = SubElement(node_size, 'depth')\n",
    "#     node_depth.text = '%s' % channel\n",
    " \n",
    "#     for x, y, x1, y1 in bbox:\n",
    "#         left, top, right, bottom = x, y, x1, y1\n",
    "#         node_object = SubElement(node_root, 'object')\n",
    "#         node_name = SubElement(node_object, 'name')\n",
    "#         node_name.text = 'person'\n",
    "#         node_difficult = SubElement(node_object, 'difficult')\n",
    "#         node_difficult.text = '0'\n",
    "#         node_bndbox = SubElement(node_object, 'bndbox')\n",
    "#         node_xmin = SubElement(node_bndbox, 'xmin')\n",
    "#         node_xmin.text = '%s' % left\n",
    "#         node_ymin = SubElement(node_bndbox, 'ymin')\n",
    "#         node_ymin.text = '%s' % top\n",
    "#         node_xmax = SubElement(node_bndbox, 'xmax')\n",
    "#         node_xmax.text = '%s' % right\n",
    "#         node_ymax = SubElement(node_bndbox, 'ymax')\n",
    "#         node_ymax.text = '%s' % bottom\n",
    " \n",
    "#     xml = tostring(node_root, pretty_print=True)\n",
    "#     dom = parseString(xml)\n",
    " \n",
    "#     save_xml = os.path.join(save_dir, image_name.replace('jpg', 'xml'))\n",
    "#     with open(save_xml, 'wb') as f:\n",
    "#         f.write(xml)\n",
    " \n",
    "#     return\n",
    " \n",
    " \n",
    "# def change2xml(label_dict={}):\n",
    "#     for image in label_dict.keys():\n",
    "#         image_name = os.path.split(image)[-1]\n",
    "#         bbox = label_dict.get(image, [])\n",
    "#         save_xml(image_name, bbox)\n",
    "#     return\n",
    " \n",
    "# import pandas as pd\n",
    "# import numpy as np\n",
    "# data = pd.read_table(\"data/data135731/train_labels.csv\",sep=\",\")\n",
    "# name_file=open('data/data135731/pics/ImageSets/Main/train.txt','r')\n",
    "# name_file=name_file.readlines()\n",
    "# for name in name_file:\n",
    "#     img=cv2.imread('data/data135731/pics/JPEGImages/'+name[:-1]+'.jpg')\n",
    "#     height,width  = img.shape[:2]\n",
    "#     name=name[:-1]+'.jpg'\n",
    "#     xx = np.array(data[data['ID'] == name][' Detection'])\n",
    "#     bbox=[]\n",
    "#     for i in range(xx.shape[0]):\n",
    "#         bbox.append(xx[i].split(' '))\n",
    "#     save_xml(image_name=name, bbox=bbox, save_dir='data/data135731/pics/Annotations', width=width, height=height, channel=3)\n",
    "    "
   ]
  },
  {
   "cell_type": "markdown",
   "metadata": {},
   "source": [
    "## 拆分数据集/数据准备"
   ]
  },
  {
   "cell_type": "code",
   "execution_count": 4,
   "metadata": {
    "execution": {
     "iopub.execute_input": "2022-03-31T02:57:13.315163Z",
     "iopub.status.busy": "2022-03-31T02:57:13.314426Z",
     "iopub.status.idle": "2022-03-31T02:57:15.749505Z",
     "shell.execute_reply": "2022-03-31T02:57:15.748566Z",
     "shell.execute_reply.started": "2022-03-31T02:57:13.315131Z"
    },
    "scrolled": true,
    "tags": []
   },
   "outputs": [
    {
     "name": "stdout",
     "output_type": "stream",
     "text": [
      "/opt/conda/envs/python35-paddle120-env/lib/python3.7/site-packages/setuptools/depends.py:2: DeprecationWarning: the imp module is deprecated in favour of importlib; see the module's documentation for alternative uses\n",
      "  import imp\n",
      "Dataset Split Done.\u001b[0m\n",
      "\u001b[0mTrain samples: 213\u001b[0m\n",
      "\u001b[0mEval samples: 37\u001b[0m\n",
      "\u001b[0mTest samples: 0\u001b[0m\n",
      "\u001b[0mSplit files saved in data/data135897/dataset_reinforcing_steel_bar_counting\u001b[0m\n",
      "\u001b[0m\u001b[0m"
     ]
    }
   ],
   "source": [
    "# import paddlex\n",
    "!paddlex --split_dataset --format VOC --dataset_dir data/data135897/dataset_reinforcing_steel_bar_counting --val_value 0.15"
   ]
  },
  {
   "cell_type": "markdown",
   "metadata": {},
   "source": [
    "## 模型选择与训练\n",
    "(训练时间过长+跑十几分钟就卡住)"
   ]
  },
  {
   "cell_type": "code",
   "execution_count": null,
   "metadata": {
    "execution": {
     "iopub.execute_input": "2022-03-31T07:22:41.193270Z",
     "iopub.status.busy": "2022-03-31T07:22:41.192587Z"
    },
    "scrolled": true,
    "tags": []
   },
   "outputs": [
    {
     "name": "stderr",
     "output_type": "stream",
     "text": [
      "/opt/conda/envs/python35-paddle120-env/lib/python3.7/site-packages/matplotlib/__init__.py:107: DeprecationWarning: Using or importing the ABCs from 'collections' instead of from 'collections.abc' is deprecated, and in 3.8 it will stop working\n",
      "  from collections import MutableMapping\n",
      "/opt/conda/envs/python35-paddle120-env/lib/python3.7/site-packages/matplotlib/rcsetup.py:20: DeprecationWarning: Using or importing the ABCs from 'collections' instead of from 'collections.abc' is deprecated, and in 3.8 it will stop working\n",
      "  from collections import Iterable, Mapping\n",
      "/opt/conda/envs/python35-paddle120-env/lib/python3.7/site-packages/matplotlib/colors.py:53: DeprecationWarning: Using or importing the ABCs from 'collections' instead of from 'collections.abc' is deprecated, and in 3.8 it will stop working\n",
      "  from collections import Sized\n"
     ]
    },
    {
     "name": "stdout",
     "output_type": "stream",
     "text": [
      "2022-03-31 15:22:41 [INFO]\tStarting to read file list from dataset...\n",
      "2022-03-31 15:22:53 [INFO]\t213 samples in file data/data135897/dataset_reinforcing_steel_bar_counting/train_list.txt\n",
      "creating index...\n",
      "index created!\n",
      "2022-03-31 15:22:53 [INFO]\tStarting to read file list from dataset...\n",
      "2022-03-31 15:22:55 [INFO]\t37 samples in file data/data135897/dataset_reinforcing_steel_bar_counting/val_list.txt\n",
      "creating index...\n",
      "index created!\n"
     ]
    },
    {
     "name": "stderr",
     "output_type": "stream",
     "text": [
      "!!! The CPU_NUM is not specified, you should set CPU_NUM in the environment variable list.\n",
      "CPU_NUM indicates that how many CPUPlace are used in the current task.\n",
      "And if this parameter are set as N (equal to the number of physical CPU core) the program may be faster.\n",
      "\n",
      "export CPU_NUM=64 # for example, set CPU_NUM as number of physical CPU core which is 64.\n",
      "\n",
      "!!! The default number of CPU_NUM=1.\n"
     ]
    },
    {
     "name": "stdout",
     "output_type": "stream",
     "text": [
      "2022-03-31 15:22:56 [INFO]\tDecompressing data/data135897/output/yolov3_mobilnetv1/pretrain/yolov3_mobilenet_v1.tar...\n",
      "2022-03-31 15:22:58 [INFO]\tLoad pretrain weights from data/data135897/output/yolov3_mobilnetv1/pretrain/yolov3_mobilenet_v1.\n",
      "2022-03-31 15:22:58 [WARNING]\t[SKIP] Shape of pretrained weight data/data135897/output/yolov3_mobilnetv1/pretrain/yolov3_mobilenet_v1/yolo_output.0.conv.weights doesn't match.(Pretrained: (255, 1024, 1, 1), Actual: (18, 1024, 1, 1))\n",
      "2022-03-31 15:22:58 [WARNING]\t[SKIP] Shape of pretrained weight data/data135897/output/yolov3_mobilnetv1/pretrain/yolov3_mobilenet_v1/yolo_output.0.conv.bias doesn't match.(Pretrained: (255,), Actual: (18,))\n",
      "2022-03-31 15:22:58 [WARNING]\t[SKIP] Shape of pretrained weight data/data135897/output/yolov3_mobilnetv1/pretrain/yolov3_mobilenet_v1/yolo_output.1.conv.weights doesn't match.(Pretrained: (255, 512, 1, 1), Actual: (18, 512, 1, 1))\n",
      "2022-03-31 15:22:58 [WARNING]\t[SKIP] Shape of pretrained weight data/data135897/output/yolov3_mobilnetv1/pretrain/yolov3_mobilenet_v1/yolo_output.1.conv.bias doesn't match.(Pretrained: (255,), Actual: (18,))\n",
      "2022-03-31 15:22:58 [WARNING]\t[SKIP] Shape of pretrained weight data/data135897/output/yolov3_mobilnetv1/pretrain/yolov3_mobilenet_v1/yolo_output.2.conv.weights doesn't match.(Pretrained: (255, 256, 1, 1), Actual: (18, 256, 1, 1))\n",
      "2022-03-31 15:22:58 [WARNING]\t[SKIP] Shape of pretrained weight data/data135897/output/yolov3_mobilnetv1/pretrain/yolov3_mobilenet_v1/yolo_output.2.conv.bias doesn't match.(Pretrained: (255,), Actual: (18,))\n",
      "2022-03-31 15:22:59 [INFO]\tThere are 235 varaibles in data/data135897/output/yolov3_mobilnetv1/pretrain/yolov3_mobilenet_v1 are loaded.\n",
      "2022-03-31 15:23:42 [INFO]\t[TRAIN] Epoch=1/270, Step=2/106, loss=10923.102539, lr=0.0, time_each_step=21.16s, eta=174:13:56\n",
      "2022-03-31 15:24:37 [INFO]\t[TRAIN] Epoch=1/270, Step=4/106, loss=15564.999023, lr=0.0, time_each_step=24.53s, eta=202:0:18\n",
      "2022-03-31 15:25:05 [INFO]\t[TRAIN] Epoch=1/270, Step=6/106, loss=6070.909668, lr=1e-06, time_each_step=20.95s, eta=172:30:48\n",
      "2022-03-31 15:25:50 [INFO]\t[TRAIN] Epoch=1/270, Step=8/106, loss=8531.8125, lr=1e-06, time_each_step=21.33s, eta=175:35:40\n",
      "2022-03-31 15:26:17 [INFO]\t[TRAIN] Epoch=1/270, Step=10/106, loss=4847.231445, lr=1e-06, time_each_step=19.8s, eta=162:59:31\n",
      "2022-03-31 15:26:22 [INFO]\t[TRAIN] Epoch=1/270, Step=12/106, loss=2308.984863, lr=1e-06, time_each_step=16.86s, eta=138:47:9\n",
      "2022-03-31 15:26:27 [INFO]\t[TRAIN] Epoch=1/270, Step=14/106, loss=1032.914917, lr=2e-06, time_each_step=14.85s, eta=122:15:45\n",
      "2022-03-31 15:26:36 [INFO]\t[TRAIN] Epoch=1/270, Step=16/106, loss=1583.18396, lr=2e-06, time_each_step=13.52s, eta=111:18:16\n",
      "2022-03-31 15:26:43 [INFO]\t[TRAIN] Epoch=1/270, Step=18/106, loss=1000.259705, lr=2e-06, time_each_step=12.4s, eta=102:2:29\n",
      "2022-03-31 15:26:49 [INFO]\t[TRAIN] Epoch=1/270, Step=20/106, loss=846.846313, lr=2e-06, time_each_step=11.47s, eta=94:23:38\n",
      "2022-03-31 15:26:54 [INFO]\t[TRAIN] Epoch=1/270, Step=22/106, loss=398.833557, lr=3e-06, time_each_step=9.64s, eta=79:17:15\n",
      "2022-03-31 15:27:01 [INFO]\t[TRAIN] Epoch=1/270, Step=24/106, loss=722.789246, lr=3e-06, time_each_step=7.16s, eta=58:57:9\n",
      "2022-03-31 15:27:08 [INFO]\t[TRAIN] Epoch=1/270, Step=26/106, loss=748.173218, lr=3e-06, time_each_step=6.17s, eta=50:43:40\n",
      "2022-03-31 15:27:15 [INFO]\t[TRAIN] Epoch=1/270, Step=28/106, loss=749.904114, lr=3e-06, time_each_step=4.24s, eta=34:54:1\n",
      "2022-03-31 15:27:22 [INFO]\t[TRAIN] Epoch=1/270, Step=30/106, loss=663.884521, lr=4e-06, time_each_step=3.25s, eta=26:45:8\n",
      "2022-03-31 15:27:30 [INFO]\t[TRAIN] Epoch=1/270, Step=32/106, loss=420.853821, lr=4e-06, time_each_step=3.44s, eta=28:16:47\n",
      "2022-03-31 15:27:37 [INFO]\t[TRAIN] Epoch=1/270, Step=34/106, loss=650.143127, lr=4e-06, time_each_step=3.46s, eta=28:30:4\n",
      "2022-03-31 15:27:43 [INFO]\t[TRAIN] Epoch=1/270, Step=36/106, loss=729.406067, lr=4e-06, time_each_step=3.37s, eta=27:43:37\n",
      "2022-03-31 15:27:49 [INFO]\t[TRAIN] Epoch=1/270, Step=38/106, loss=710.286072, lr=5e-06, time_each_step=3.35s, eta=27:30:47\n",
      "2022-03-31 15:27:52 [INFO]\t[TRAIN] Epoch=1/270, Step=40/106, loss=567.898987, lr=5e-06, time_each_step=3.19s, eta=26:11:37\n",
      "2022-03-31 15:27:56 [INFO]\t[TRAIN] Epoch=1/270, Step=42/106, loss=614.033203, lr=5e-06, time_each_step=3.1s, eta=25:31:15\n",
      "2022-03-31 15:28:03 [INFO]\t[TRAIN] Epoch=1/270, Step=44/106, loss=496.66095, lr=5e-06, time_each_step=3.1s, eta=25:30:10\n",
      "2022-03-31 15:28:07 [INFO]\t[TRAIN] Epoch=1/270, Step=46/106, loss=559.121704, lr=6e-06, time_each_step=2.95s, eta=24:13:23\n",
      "2022-03-31 15:28:12 [INFO]\t[TRAIN] Epoch=1/270, Step=48/106, loss=557.617126, lr=6e-06, time_each_step=2.86s, eta=23:30:1\n",
      "2022-03-31 15:28:18 [INFO]\t[TRAIN] Epoch=1/270, Step=50/106, loss=540.574951, lr=6e-06, time_each_step=2.79s, eta=22:56:47\n",
      "2022-03-31 15:28:24 [INFO]\t[TRAIN] Epoch=1/270, Step=52/106, loss=431.905823, lr=6e-06, time_each_step=2.7s, eta=22:9:41\n",
      "2022-03-31 15:28:28 [INFO]\t[TRAIN] Epoch=1/270, Step=54/106, loss=442.379089, lr=7e-06, time_each_step=2.57s, eta=21:6:11\n",
      "2022-03-31 15:28:34 [INFO]\t[TRAIN] Epoch=1/270, Step=56/106, loss=407.345154, lr=7e-06, time_each_step=2.57s, eta=21:5:26\n",
      "2022-03-31 15:28:40 [INFO]\t[TRAIN] Epoch=1/270, Step=58/106, loss=434.8349, lr=7e-06, time_each_step=2.55s, eta=20:56:19\n",
      "2022-03-31 15:28:45 [INFO]\t[TRAIN] Epoch=1/270, Step=60/106, loss=390.516663, lr=7e-06, time_each_step=2.63s, eta=21:38:55\n",
      "2022-03-31 15:28:50 [INFO]\t[TRAIN] Epoch=1/270, Step=62/106, loss=391.404633, lr=8e-06, time_each_step=2.66s, eta=21:49:14\n",
      "2022-03-31 15:28:56 [INFO]\t[TRAIN] Epoch=1/270, Step=64/106, loss=401.31546, lr=8e-06, time_each_step=2.67s, eta=21:55:48\n",
      "2022-03-31 15:29:01 [INFO]\t[TRAIN] Epoch=1/270, Step=66/106, loss=492.60672, lr=8e-06, time_each_step=2.69s, eta=22:8:22\n",
      "2022-03-31 15:29:07 [INFO]\t[TRAIN] Epoch=1/270, Step=68/106, loss=466.747314, lr=8e-06, time_each_step=2.73s, eta=22:24:27\n",
      "2022-03-31 15:29:14 [INFO]\t[TRAIN] Epoch=1/270, Step=70/106, loss=365.548523, lr=9e-06, time_each_step=2.78s, eta=22:52:2\n",
      "2022-03-31 15:29:20 [INFO]\t[TRAIN] Epoch=1/270, Step=72/106, loss=255.111984, lr=9e-06, time_each_step=2.78s, eta=22:51:42\n",
      "2022-03-31 15:29:24 [INFO]\t[TRAIN] Epoch=1/270, Step=74/106, loss=444.944519, lr=9e-06, time_each_step=2.8s, eta=23:2:6\n",
      "2022-03-31 15:29:27 [INFO]\t[TRAIN] Epoch=1/270, Step=76/106, loss=323.203156, lr=9e-06, time_each_step=2.63s, eta=21:38:36\n",
      "2022-03-31 15:29:33 [INFO]\t[TRAIN] Epoch=1/270, Step=78/106, loss=551.980347, lr=1e-05, time_each_step=2.62s, eta=21:30:46\n",
      "2022-03-31 15:29:40 [INFO]\t[TRAIN] Epoch=1/270, Step=80/106, loss=464.97229, lr=1e-05, time_each_step=2.76s, eta=22:39:0\n",
      "2022-03-31 15:29:45 [INFO]\t[TRAIN] Epoch=1/270, Step=82/106, loss=285.776276, lr=1e-05, time_each_step=2.75s, eta=22:37:5\n",
      "2022-03-31 15:29:50 [INFO]\t[TRAIN] Epoch=1/270, Step=84/106, loss=502.278076, lr=1e-05, time_each_step=2.7s, eta=22:8:21\n",
      "2022-03-31 15:29:55 [INFO]\t[TRAIN] Epoch=1/270, Step=86/106, loss=367.655457, lr=1.1e-05, time_each_step=2.69s, eta=22:4:5\n",
      "2022-03-31 15:30:02 [INFO]\t[TRAIN] Epoch=1/270, Step=88/106, loss=436.146301, lr=1.1e-05, time_each_step=2.76s, eta=22:39:31\n",
      "2022-03-31 15:30:07 [INFO]\t[TRAIN] Epoch=1/270, Step=90/106, loss=428.49884, lr=1.1e-05, time_each_step=2.68s, eta=21:58:59\n",
      "2022-03-31 15:30:15 [INFO]\t[TRAIN] Epoch=1/270, Step=92/106, loss=433.841339, lr=1.1e-05, time_each_step=2.76s, eta=22:38:58\n",
      "2022-03-31 15:30:24 [INFO]\t[TRAIN] Epoch=1/270, Step=94/106, loss=377.914856, lr=1.2e-05, time_each_step=3.01s, eta=24:43:27\n",
      "2022-03-31 15:30:30 [INFO]\t[TRAIN] Epoch=1/270, Step=96/106, loss=370.140137, lr=1.2e-05, time_each_step=3.17s, eta=25:59:19\n",
      "2022-03-31 15:30:38 [INFO]\t[TRAIN] Epoch=1/270, Step=98/106, loss=385.833801, lr=1.2e-05, time_each_step=3.25s, eta=26:42:45\n",
      "2022-03-31 15:30:43 [INFO]\t[TRAIN] Epoch=1/270, Step=100/106, loss=344.63266, lr=1.2e-05, time_each_step=3.12s, eta=25:36:10\n",
      "2022-03-31 15:30:51 [INFO]\t[TRAIN] Epoch=1/270, Step=102/106, loss=388.954285, lr=1.3e-05, time_each_step=3.31s, eta=27:11:38\n",
      "2022-03-31 15:30:55 [INFO]\t[TRAIN] Epoch=1/270, Step=104/106, loss=315.853821, lr=1.3e-05, time_each_step=3.23s, eta=26:31:1\n",
      "2022-03-31 15:31:00 [INFO]\t[TRAIN] Epoch=1/270, Step=106/106, loss=340.719666, lr=1.3e-05, time_each_step=3.25s, eta=26:38:46\n",
      "2022-03-31 15:31:00 [INFO]\t[TRAIN] Epoch 1 finished, loss=1485.825562, lr=7e-06 .\n",
      "2022-03-31 15:32:25 [INFO]\t[TRAIN] Epoch=2/270, Step=2/106, loss=408.560211, lr=1.3e-05, time_each_step=7.15s, eta=38:1:1\n",
      "2022-03-31 15:33:08 [INFO]\t[TRAIN] Epoch=2/270, Step=4/106, loss=394.564941, lr=1.4e-05, time_each_step=9.05s, eta=38:36:30\n",
      "2022-03-31 15:33:39 [INFO]\t[TRAIN] Epoch=2/270, Step=6/106, loss=340.702515, lr=1.4e-05, time_each_step=10.17s, eta=38:57:15\n",
      "2022-03-31 15:34:05 [INFO]\t[TRAIN] Epoch=2/270, Step=8/106, loss=222.740021, lr=1.4e-05, time_each_step=11.02s, eta=39:12:46\n",
      "2022-03-31 15:34:25 [INFO]\t[TRAIN] Epoch=2/270, Step=10/106, loss=355.271515, lr=1.4e-05, time_each_step=11.74s, eta=39:26:0\n",
      "2022-03-31 15:34:30 [INFO]\t[TRAIN] Epoch=2/270, Step=12/106, loss=154.448715, lr=1.5e-05, time_each_step=11.63s, eta=39:23:30\n",
      "2022-03-31 15:34:37 [INFO]\t[TRAIN] Epoch=2/270, Step=14/106, loss=330.816833, lr=1.5e-05, time_each_step=11.73s, eta=39:24:54\n",
      "2022-03-31 15:34:46 [INFO]\t[TRAIN] Epoch=2/270, Step=16/106, loss=393.963562, lr=1.5e-05, time_each_step=11.75s, eta=39:24:54\n",
      "2022-03-31 15:34:52 [INFO]\t[TRAIN] Epoch=2/270, Step=18/106, loss=357.842834, lr=1.5e-05, time_each_step=11.87s, eta=39:26:51\n",
      "2022-03-31 15:35:02 [INFO]\t[TRAIN] Epoch=2/270, Step=20/106, loss=349.807831, lr=1.6e-05, time_each_step=12.08s, eta=39:30:22\n",
      "2022-03-31 15:35:05 [INFO]\t[TRAIN] Epoch=2/270, Step=22/106, loss=356.560364, lr=1.6e-05, time_each_step=8.0s, eta=38:14:20\n",
      "2022-03-31 15:35:09 [INFO]\t[TRAIN] Epoch=2/270, Step=24/106, loss=317.741669, lr=1.6e-05, time_each_step=6.05s, eta=37:38:7\n",
      "2022-03-31 15:35:17 [INFO]\t[TRAIN] Epoch=2/270, Step=26/106, loss=391.033417, lr=1.6e-05, time_each_step=4.9s, eta=37:16:49\n",
      "2022-03-31 15:35:23 [INFO]\t[TRAIN] Epoch=2/270, Step=28/106, loss=309.768463, lr=1.7e-05, time_each_step=3.91s, eta=36:58:27\n",
      "2022-03-31 15:35:30 [INFO]\t[TRAIN] Epoch=2/270, Step=30/106, loss=302.861084, lr=1.7e-05, time_each_step=3.24s, eta=36:45:59\n",
      "2022-03-31 15:35:38 [INFO]\t[TRAIN] Epoch=2/270, Step=32/106, loss=255.96611, lr=1.7e-05, time_each_step=3.39s, eta=36:48:35\n",
      "2022-03-31 15:35:45 [INFO]\t[TRAIN] Epoch=2/270, Step=34/106, loss=291.664246, lr=1.7e-05, time_each_step=3.4s, eta=36:48:40\n",
      "2022-03-31 15:35:51 [INFO]\t[TRAIN] Epoch=2/270, Step=36/106, loss=221.855988, lr=1.8e-05, time_each_step=3.27s, eta=36:46:13\n",
      "2022-03-31 15:35:57 [INFO]\t[TRAIN] Epoch=2/270, Step=38/106, loss=144.798325, lr=1.8e-05, time_each_step=3.26s, eta=36:45:47\n",
      "2022-03-31 15:36:03 [INFO]\t[TRAIN] Epoch=2/270, Step=40/106, loss=372.799103, lr=1.8e-05, time_each_step=3.08s, eta=36:42:24\n",
      "2022-03-31 15:36:09 [INFO]\t[TRAIN] Epoch=2/270, Step=42/106, loss=332.753876, lr=1.8e-05, time_each_step=3.22s, eta=36:44:50\n",
      "2022-03-31 15:36:15 [INFO]\t[TRAIN] Epoch=2/270, Step=44/106, loss=394.518311, lr=1.9e-05, time_each_step=3.26s, eta=36:45:31\n",
      "2022-03-31 15:36:19 [INFO]\t[TRAIN] Epoch=2/270, Step=46/106, loss=341.383392, lr=1.9e-05, time_each_step=3.09s, eta=36:42:23\n",
      "2022-03-31 15:36:23 [INFO]\t[TRAIN] Epoch=2/270, Step=48/106, loss=72.186897, lr=1.9e-05, time_each_step=3.0s, eta=36:40:39\n",
      "2022-03-31 15:36:30 [INFO]\t[TRAIN] Epoch=2/270, Step=50/106, loss=227.927383, lr=1.9e-05, time_each_step=2.98s, eta=36:40:7\n",
      "2022-03-31 15:36:36 [INFO]\t[TRAIN] Epoch=2/270, Step=52/106, loss=377.40979, lr=2e-05, time_each_step=2.9s, eta=36:38:38\n",
      "2022-03-31 15:36:41 [INFO]\t[TRAIN] Epoch=2/270, Step=54/106, loss=409.645111, lr=2e-05, time_each_step=2.77s, eta=36:36:5\n",
      "2022-03-31 15:36:46 [INFO]\t[TRAIN] Epoch=2/270, Step=56/106, loss=338.365448, lr=2e-05, time_each_step=2.75s, eta=36:35:40\n",
      "2022-03-31 15:36:50 [INFO]\t[TRAIN] Epoch=2/270, Step=58/106, loss=332.125488, lr=2e-05, time_each_step=2.65s, eta=36:33:54\n",
      "2022-03-31 15:36:55 [INFO]\t[TRAIN] Epoch=2/270, Step=60/106, loss=356.221252, lr=2.1e-05, time_each_step=2.61s, eta=36:32:59\n",
      "2022-03-31 15:37:02 [INFO]\t[TRAIN] Epoch=2/270, Step=62/106, loss=355.497131, lr=2.1e-05, time_each_step=2.66s, eta=36:33:52\n",
      "2022-03-31 15:37:06 [INFO]\t[TRAIN] Epoch=2/270, Step=64/106, loss=283.225647, lr=2.1e-05, time_each_step=2.56s, eta=36:32:1\n",
      "2022-03-31 15:37:11 [INFO]\t[TRAIN] Epoch=2/270, Step=66/106, loss=354.672485, lr=2.1e-05, time_each_step=2.62s, eta=36:33:1\n",
      "2022-03-31 15:37:16 [INFO]\t[TRAIN] Epoch=2/270, Step=68/106, loss=349.317688, lr=2.2e-05, time_each_step=2.66s, eta=36:33:33\n",
      "2022-03-31 15:37:24 [INFO]\t[TRAIN] Epoch=2/270, Step=70/106, loss=344.83252, lr=2.2e-05, time_each_step=2.72s, eta=36:34:32\n",
      "2022-03-31 15:37:29 [INFO]\t[TRAIN] Epoch=2/270, Step=72/106, loss=377.819427, lr=2.2e-05, time_each_step=2.61s, eta=36:32:31\n",
      "2022-03-31 15:37:34 [INFO]\t[TRAIN] Epoch=2/270, Step=74/106, loss=349.432892, lr=2.2e-05, time_each_step=2.66s, eta=36:33:15\n",
      "2022-03-31 15:37:39 [INFO]\t[TRAIN] Epoch=2/270, Step=76/106, loss=188.152039, lr=2.3e-05, time_each_step=2.61s, eta=36:32:23\n",
      "2022-03-31 15:37:43 [INFO]\t[TRAIN] Epoch=2/270, Step=78/106, loss=313.007538, lr=2.3e-05, time_each_step=2.61s, eta=36:32:12\n",
      "2022-03-31 15:37:51 [INFO]\t[TRAIN] Epoch=2/270, Step=80/106, loss=354.488525, lr=2.3e-05, time_each_step=2.79s, eta=36:35:15\n",
      "2022-03-31 15:37:58 [INFO]\t[TRAIN] Epoch=2/270, Step=82/106, loss=340.576935, lr=2.3e-05, time_each_step=2.81s, eta=36:35:38\n",
      "2022-03-31 15:38:05 [INFO]\t[TRAIN] Epoch=2/270, Step=84/106, loss=398.91217, lr=2.4e-05, time_each_step=2.96s, eta=36:38:8\n",
      "2022-03-31 15:38:12 [INFO]\t[TRAIN] Epoch=2/270, Step=86/106, loss=346.598206, lr=2.4e-05, time_each_step=3.07s, eta=36:39:57\n",
      "2022-03-31 15:38:16 [INFO]\t[TRAIN] Epoch=2/270, Step=88/106, loss=371.411407, lr=2.4e-05, time_each_step=2.99s, eta=36:38:22\n",
      "2022-03-31 15:38:23 [INFO]\t[TRAIN] Epoch=2/270, Step=90/106, loss=220.096359, lr=2.4e-05, time_each_step=2.92s, eta=36:37:7\n",
      "2022-03-31 15:38:29 [INFO]\t[TRAIN] Epoch=2/270, Step=92/106, loss=346.934448, lr=2.5e-05, time_each_step=3.0s, eta=36:38:27\n",
      "2022-03-31 15:38:35 [INFO]\t[TRAIN] Epoch=2/270, Step=94/106, loss=300.520233, lr=2.5e-05, time_each_step=3.07s, eta=36:39:30\n"
     ]
    }
   ],
   "source": [
    "from paddlex.det import transforms\n",
    "import paddlex as pdx\n",
    "\n",
    "# 定义训练和验证时的transforms\n",
    "# API说明：https://github.com/PaddlePaddle/PaddleX/blob/release/1.3.11/paddlex/cv/transforms/operators.py\n",
    "train_transforms = transforms.Compose([\n",
    "    transforms.MixupImage(mixup_epoch=-1),\n",
    "    transforms.RandomDistort(),\n",
    "    transforms.RandomExpand(),\n",
    "    transforms.RandomCrop(),\n",
    "    transforms.Resize(\n",
    "        target_size=480, interp='RANDOM'),\n",
    "    transforms.RandomHorizontalFlip(),\n",
    "    transforms.Normalize(),\n",
    "])\n",
    "\n",
    "eval_transforms = transforms.Compose([\n",
    "    transforms.Resize(\n",
    "        target_size=480, interp='CUBIC'),\n",
    "    transforms.Normalize(),\n",
    "])\n",
    "\n",
    "# 定义训练和验证所用的数据集\n",
    "# API说明：https://github.com/PaddlePaddle/PaddleX/blob/release/1.3.11/paddlex/cv/datasets/voc.py\n",
    "local_dir = 'data/data135897/'\n",
    "train_dataset = pdx.datasets.VOCDetection(\n",
    "    data_dir=local_dir + 'dataset_reinforcing_steel_bar_counting',\n",
    "    file_list=local_dir + 'dataset_reinforcing_steel_bar_counting/train_list.txt',\n",
    "    label_list=local_dir + 'dataset_reinforcing_steel_bar_counting/labels.txt',\n",
    "    transforms=train_transforms,\n",
    "    shuffle=True)\n",
    "\n",
    "eval_dataset = pdx.datasets.VOCDetection(\n",
    "    data_dir=local_dir + 'dataset_reinforcing_steel_bar_counting',\n",
    "    file_list=local_dir + 'dataset_reinforcing_steel_bar_counting/val_list.txt',\n",
    "    label_list=local_dir + 'dataset_reinforcing_steel_bar_counting/labels.txt',\n",
    "    transforms=eval_transforms,\n",
    "    shuffle=False)\n",
    "\n",
    "# 初始化模型，并进行训练\n",
    "# 可使用VisualDL查看训练指标，参考https://github.com/PaddlePaddle/PaddleX/tree/release/1.3.11/tutorials/train#visualdl可视化训练指标\n",
    "num_classes = len(train_dataset.labels)\n",
    "model = pdx.det.YOLOv3(num_classes=num_classes, backbone='MobileNetV1', label_smooth=True, ignore_threshold=0.7)\n",
    "\n",
    "\n",
    "# API说明：https://github.com/PaddlePaddle/PaddleX/blob/release/1.3.11/paddlex/cv/models/detector.py\n",
    "# 各参数介绍与调整说明：https://paddlex.readthedocs.io/zh_CN/develop/appendix/parameters.html\n",
    "model.train(\n",
    "    num_epochs=270,                      # 训练轮次\n",
    "    train_dataset=train_dataset,         # 训练数据\n",
    "    eval_dataset=eval_dataset,           # 验证数据\n",
    "    train_batch_size=2,                  # 批大小\n",
    "    pretrain_weights='COCO',             # 预训练权重\n",
    "    learning_rate=0.000125,              # 学习率\n",
    "    warmup_steps=1000,                   # 预热步数\n",
    "    warmup_start_lr=0.0,                 # 预热起始学习率\n",
    "    save_interval_epochs=5,              # 每5个轮次保存一次，有验证数据时，自动评估\n",
    "    lr_decay_epochs=[210, 240],          # step学习率衰减\n",
    "    save_dir=local_dir + 'output/yolov3_mobilnetv1', # 保存路径\n",
    "    use_vdl=True)                        # 其用visuadl进行可视化训练记录"
   ]
  },
  {
   "cell_type": "markdown",
   "metadata": {},
   "source": [
    "## 训练参数可视化"
   ]
  },
  {
   "cell_type": "code",
   "execution_count": 1,
   "metadata": {
    "execution": {
     "iopub.execute_input": "2022-03-31T08:58:31.031478Z",
     "iopub.status.busy": "2022-03-31T08:58:31.031102Z",
     "iopub.status.idle": "2022-03-31T08:58:31.472238Z",
     "shell.execute_reply": "2022-03-31T08:58:31.471044Z",
     "shell.execute_reply.started": "2022-03-31T08:58:31.031447Z"
    },
    "scrolled": true,
    "tags": []
   },
   "outputs": [
    {
     "ename": "NameError",
     "evalue": "name 'step' is not defined",
     "output_type": "error",
     "traceback": [
      "\u001b[0;31m---------------------------------------------------------------------------\u001b[0m",
      "\u001b[0;31mNameError\u001b[0m                                 Traceback (most recent call last)",
      "\u001b[0;32m/tmp/ipykernel_24820/3748149112.py\u001b[0m in \u001b[0;36m<module>\u001b[0;34m\u001b[0m\n\u001b[1;32m      3\u001b[0m \u001b[0mwriter\u001b[0m \u001b[0;34m=\u001b[0m \u001b[0mLogWriter\u001b[0m\u001b[0;34m(\u001b[0m\u001b[0;34m\"data/data135897/log/lenet/run1\"\u001b[0m\u001b[0;34m)\u001b[0m\u001b[0;34m\u001b[0m\u001b[0;34m\u001b[0m\u001b[0m\n\u001b[1;32m      4\u001b[0m \u001b[0mwriter\u001b[0m\u001b[0;34m.\u001b[0m\u001b[0madd_hparams\u001b[0m\u001b[0;34m(\u001b[0m\u001b[0;34m{\u001b[0m\u001b[0;34m'learning rate'\u001b[0m\u001b[0;34m:\u001b[0m\u001b[0;36m0.0001\u001b[0m\u001b[0;34m,\u001b[0m \u001b[0;34m'batch size'\u001b[0m\u001b[0;34m:\u001b[0m\u001b[0;36m64\u001b[0m\u001b[0;34m,\u001b[0m \u001b[0;34m'optimizer'\u001b[0m\u001b[0;34m:\u001b[0m\u001b[0;34m'Adam'\u001b[0m\u001b[0;34m}\u001b[0m\u001b[0;34m,\u001b[0m \u001b[0;34m[\u001b[0m\u001b[0;34m'train/loss'\u001b[0m\u001b[0;34m,\u001b[0m \u001b[0;34m'train/acc'\u001b[0m\u001b[0;34m]\u001b[0m\u001b[0;34m)\u001b[0m\u001b[0;34m\u001b[0m\u001b[0;34m\u001b[0m\u001b[0m\n\u001b[0;32m----> 5\u001b[0;31m \u001b[0mwriter\u001b[0m\u001b[0;34m.\u001b[0m\u001b[0madd_scalar\u001b[0m\u001b[0;34m(\u001b[0m\u001b[0mtag\u001b[0m\u001b[0;34m=\u001b[0m\u001b[0;34m\"train/loss\"\u001b[0m\u001b[0;34m,\u001b[0m \u001b[0mstep\u001b[0m\u001b[0;34m=\u001b[0m\u001b[0mstep\u001b[0m\u001b[0;34m,\u001b[0m \u001b[0mvalue\u001b[0m\u001b[0;34m=\u001b[0m\u001b[0mcost\u001b[0m\u001b[0;34m)\u001b[0m\u001b[0;34m\u001b[0m\u001b[0;34m\u001b[0m\u001b[0m\n\u001b[0m\u001b[1;32m      6\u001b[0m \u001b[0mwriter\u001b[0m\u001b[0;34m.\u001b[0m\u001b[0madd_scalar\u001b[0m\u001b[0;34m(\u001b[0m\u001b[0mtag\u001b[0m\u001b[0;34m=\u001b[0m\u001b[0;34m\"train/acc\"\u001b[0m\u001b[0;34m,\u001b[0m \u001b[0mstep\u001b[0m\u001b[0;34m=\u001b[0m\u001b[0mstep\u001b[0m\u001b[0;34m,\u001b[0m \u001b[0mvalue\u001b[0m\u001b[0;34m=\u001b[0m\u001b[0maccuracy\u001b[0m\u001b[0;34m)\u001b[0m\u001b[0;34m\u001b[0m\u001b[0;34m\u001b[0m\u001b[0m\n",
      "\u001b[0;31mNameError\u001b[0m: name 'step' is not defined"
     ]
    }
   ],
   "source": [
    "# !visualdl --logdir data/data135897/output/yolov3_darknet53/vdl_log --port 8001\n",
    "# from visualdl import LogWriter\n",
    "# writer = LogWriter(\"data/data135897/log/lenet/run1\")\n",
    "# writer.add_hparams({'learning rate':0.0001, 'batch size':64, 'optimizer':'Adam'}, ['train/loss', 'train/acc'])\n",
    "# writer.add_scalar(tag=\"train/loss\", step=step, value=cost)\n",
    "# writer.add_scalar(tag=\"train/acc\", step=step, value=accuracy)\n"
   ]
  },
  {
   "cell_type": "markdown",
   "metadata": {},
   "source": [
    "![](https://ai-studio-static-online.cdn.bcebos.com/d044760ea0104f5288d6f0b68056493129acc1a5d0e74b1ab7d33fe8d27e9616)\n"
   ]
  },
  {
   "cell_type": "markdown",
   "metadata": {},
   "source": [
    "## 模型预测"
   ]
  },
  {
   "cell_type": "code",
   "execution_count": 1,
   "metadata": {
    "execution": {
     "iopub.execute_input": "2022-03-31T07:21:59.301946Z",
     "iopub.status.busy": "2022-03-31T07:21:59.301690Z",
     "iopub.status.idle": "2022-03-31T07:22:00.878245Z",
     "shell.execute_reply": "2022-03-31T07:22:00.877223Z",
     "shell.execute_reply.started": "2022-03-31T07:21:59.301922Z"
    },
    "scrolled": true,
    "tags": []
   },
   "outputs": [
    {
     "name": "stdout",
     "output_type": "stream",
     "text": [
      "2022-03-31 15:22:00 [ERROR]\tmodel_dir 'data/data135897/output/yolov3_mobilnetv1/best_model' is not exists!\n"
     ]
    },
    {
     "ename": "SystemExit",
     "evalue": "-1",
     "output_type": "error",
     "traceback": [
      "An exception has occurred, use %tb to see the full traceback.\n",
      "\u001b[0;31mSystemExit\u001b[0m\u001b[0;31m:\u001b[0m -1\n"
     ]
    },
    {
     "name": "stderr",
     "output_type": "stream",
     "text": [
      "/opt/conda/envs/python35-paddle120-env/lib/python3.7/site-packages/IPython/core/interactiveshell.py:3532: UserWarning: To exit: use 'exit', 'quit', or Ctrl-D.\n",
      "  warn(\"To exit: use 'exit', 'quit', or Ctrl-D.\", stacklevel=1)\n"
     ]
    }
   ],
   "source": [
    "import glob\n",
    "import numpy as np\n",
    "import threading\n",
    "import time\n",
    "import random\n",
    "import os\n",
    "import base64\n",
    "import cv2\n",
    "import json\n",
    "import paddlex as pdx\n",
    "\n",
    "# 待预测图片路径\n",
    "image_name = 'data/data135897/dataset_reinforcing_steel_bar_counting/JPEGImages/4B145787.jpg'\n",
    "\n",
    "# 预测模型加载\n",
    "model = pdx.load_model('data/data135897/output/yolov3_mobilnetv1/best_model')\n",
    "\n",
    "# 读取图片与获取预测结果\n",
    "img = cv2.imread(image_name)\n",
    "result = model.predict(img)\n",
    "\n",
    "# 解析预测结果，并保存到txt中\n",
    "keep_results = []\n",
    "areas = []\n",
    "f = open('result.txt', 'a')\n",
    "count = 0\n",
    "for dt in np.array(result):\n",
    "    cname, bbox, score = dt['category'], dt['bbox'], dt['score']\n",
    "    if score < 0.5:\n",
    "        continue\n",
    "    keep_results.append(dt)\n",
    "    count += 1\n",
    "    f.write(str(dt) + '\\n')\n",
    "    f.write('\\n')\n",
    "    areas.append(bbox[2] * bbox[3])\n",
    "areas = np.asarray(areas)\n",
    "sorted_idxs = np.argsort(-areas).tolist()\n",
    "keep_results = [keep_results[k]\n",
    "                for k in sorted_idxs] if len(keep_results) > 0 else []\n",
    "print(keep_results)\n",
    "print(count)\n",
    "f.write(\"the total number is :\" + str(int(count)))\n",
    "f.close()\n",
    "\n",
    "# 可视化保存\n",
    "pdx.det.visualize(\n",
    "    image_name, result, threshold=0.5, save_dir='data/data135897/output/yolov3_mobilnetv1')"
   ]
  },
  {
   "cell_type": "markdown",
   "metadata": {},
   "source": [
    "## 模型导出"
   ]
  },
  {
   "cell_type": "code",
   "execution_count": null,
   "metadata": {
    "scrolled": true
   },
   "outputs": [],
   "source": [
    "!paddlex --export_inference --model_dir=data/data135897/output/yolov3_resnet34/best_model"
   ]
  },
  {
   "cell_type": "markdown",
   "metadata": {},
   "source": [
    "请点击[此处](https://ai.baidu.com/docs#/AIStudio_Project_Notebook/a38e5576)查看本环境基本用法.  <br>\n",
    "Please click [here ](https://ai.baidu.com/docs#/AIStudio_Project_Notebook/a38e5576) for more detailed instructions. "
   ]
  }
 ],
 "metadata": {
  "kernelspec": {
   "display_name": "Python 3",
   "language": "python",
   "name": "py35-paddle1.2.0"
  },
  "language_info": {
   "codemirror_mode": {
    "name": "ipython",
    "version": 3
   },
   "file_extension": ".py",
   "mimetype": "text/x-python",
   "name": "python",
   "nbconvert_exporter": "python",
   "pygments_lexer": "ipython3",
   "version": "3.7.4"
  },
  "toc-showmarkdowntxt": false
 },
 "nbformat": 4,
 "nbformat_minor": 4
}
